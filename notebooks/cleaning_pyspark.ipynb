{
 "cells": [
  {
   "cell_type": "code",
   "execution_count": 31,
   "id": "6f1892b4",
   "metadata": {},
   "outputs": [
    {
     "name": "stdout",
     "output_type": "stream",
     "text": [
      "JAVA_HOME = /opt/homebrew/opt/openjdk@17/libexec/openjdk.jdk/Contents/Home\n"
     ]
    }
   ],
   "source": [
    "import os\n",
    "print(\"JAVA_HOME =\", os.environ.get(\"JAVA_HOME\"))"
   ]
  },
  {
   "cell_type": "markdown",
   "id": "6c36b484",
   "metadata": {},
   "source": [
    "#### Verified which Python my notebook is using"
   ]
  },
  {
   "cell_type": "code",
   "execution_count": 32,
   "id": "20e753ac",
   "metadata": {},
   "outputs": [
    {
     "name": "stdout",
     "output_type": "stream",
     "text": [
      "/Users/pernebayarailym/anaconda3/envs/myenv/bin/python\n"
     ]
    }
   ],
   "source": [
    "import sys\n",
    "print(sys.executable)"
   ]
  },
  {
   "cell_type": "markdown",
   "id": "1b286b32",
   "metadata": {},
   "source": [
    "#### Ensured PySpark installs in the same Python environment my notebook is using"
   ]
  },
  {
   "cell_type": "code",
   "execution_count": 33,
   "id": "76608d1f",
   "metadata": {},
   "outputs": [
    {
     "name": "stdout",
     "output_type": "stream",
     "text": [
      "Requirement already satisfied: pyspark in /Users/pernebayarailym/anaconda3/envs/myenv/lib/python3.9/site-packages (4.0.1)\n",
      "Requirement already satisfied: py4j==0.10.9.9 in /Users/pernebayarailym/anaconda3/envs/myenv/lib/python3.9/site-packages (from pyspark) (0.10.9.9)\n"
     ]
    }
   ],
   "source": [
    "import sys\n",
    "!{sys.executable} -m pip install pyspark"
   ]
  },
  {
   "cell_type": "code",
   "execution_count": 34,
   "id": "93135554",
   "metadata": {},
   "outputs": [
    {
     "name": "stdout",
     "output_type": "stream",
     "text": [
      "4.0.1\n"
     ]
    }
   ],
   "source": [
    "import pyspark\n",
    "print(pyspark.__version__)"
   ]
  },
  {
   "cell_type": "markdown",
   "id": "f495a2d9",
   "metadata": {},
   "source": [
    "##### Used these commands to install apache-spark because it couldn't find from homebrew , so I manually set the SPARK_HOME path using the path from the command below:\n",
    "\n",
    "1) brew install apache-spark\n",
    "2) brew --prefix apache-spark\n",
    "\n"
   ]
  },
  {
   "cell_type": "code",
   "execution_count": 35,
   "id": "e157968b",
   "metadata": {},
   "outputs": [
    {
     "name": "stdout",
     "output_type": "stream",
     "text": [
      "4.0.1\n"
     ]
    }
   ],
   "source": [
    "import os\n",
    "os.environ['JAVA_HOME'] = '/opt/homebrew/opt/openjdk@17/libexec/openjdk.jdk/Contents/Home'\n",
    "\n",
    "from pyspark.sql import SparkSession\n",
    "\n",
    "spark = SparkSession.builder \\\n",
    "    .appName(\"MyApp_cleaning\") \\\n",
    "    .getOrCreate()\n",
    "\n",
    "print(spark.version)"
   ]
  },
  {
   "cell_type": "code",
   "execution_count": 36,
   "id": "ed489a5e",
   "metadata": {},
   "outputs": [],
   "source": [
    "# Import necessary PySpark modules\n",
    "from pyspark.sql import SparkSession #is the entry point to PySpark\n",
    "from pyspark.sql import functions as F \n",
    "from pyspark.sql import types as T"
   ]
  },
  {
   "cell_type": "code",
   "execution_count": 37,
   "id": "d76b3d83",
   "metadata": {},
   "outputs": [
    {
     "name": "stdout",
     "output_type": "stream",
     "text": [
      "root\n",
      " |-- id_transaction: string (nullable = true)\n",
      " |-- client_nom: string (nullable = true)\n",
      " |-- client_age: string (nullable = true)\n",
      " |-- client_ville: string (nullable = true)\n",
      " |-- produit_nom: string (nullable = true)\n",
      " |-- produit_categorie: string (nullable = true)\n",
      " |-- produit_marque: string (nullable = true)\n",
      " |-- prix_catalogue: string (nullable = true)\n",
      " |-- magasin_nom: string (nullable = true)\n",
      " |-- magasin_type: string (nullable = true)\n",
      " |-- magasin_region: string (nullable = true)\n",
      " |-- date: string (nullable = true)\n",
      " |-- quantite: string (nullable = true)\n",
      " |-- montant_total: string (nullable = true)\n",
      "\n",
      "+--------------+----------+----------+------------+----------------+-----------------+--------------+--------------+--------------+------------+--------------------+----------+--------+-------------+\n",
      "|id_transaction|client_nom|client_age|client_ville|     produit_nom|produit_categorie|produit_marque|prix_catalogue|   magasin_nom|magasin_type|      magasin_region|      date|quantite|montant_total|\n",
      "+--------------+----------+----------+------------+----------------+-----------------+--------------+--------------+--------------+------------+--------------------+----------+--------+-------------+\n",
      "|             1|     Alice|        25|       Paris|      Ordinateur|     Informatique|          Dell|           800| Boutique Lyon|    Physique|Auvergne-Rhône-Alpes|2023-03-12|       2|         NULL|\n",
      "|             2|       Bob|        34|        Lyon|      Smartphone|       Téléphonie|         Apple|          1200| Boutique Lyon|    Physique|Auvergne-Rhône-Alpes|2023-01-27|       5|         NULL|\n",
      "|             3|     Alice|        25|       Paris|Montre connectée|      Accessoires|        Garmin|           300|        E-Shop|    En ligne|            National|2023-01-09|       1|         NULL|\n",
      "|             4|     Alice|        25|       Paris|      Smartphone|       Téléphonie|         Apple|          1200|Boutique Paris|    Physique|       Île-de-France|2023-05-10|       5|         NULL|\n",
      "|             5|     Alice|        25|       Paris|Montre connectée|      Accessoires|        Garmin|           300|Boutique Paris|    Physique|       Île-de-France|2023-06-16|       5|         NULL|\n",
      "+--------------+----------+----------+------------+----------------+-----------------+--------------+--------------+--------------+------------+--------------------+----------+--------+-------------+\n",
      "only showing top 5 rows\n"
     ]
    }
   ],
   "source": [
    "# Read CSV files\n",
    "csv_path = '/Users/pernebayarailym/Documents/Portfolio_Projects_AP/Simplon_DE_Projects/Python_Projects/Project_Pyspark_DBT/data/ventes.csv'\n",
    "df = spark.read \\\n",
    "    .option(\"header\", True) \\\n",
    "    .option(\"inferSchema\", False) \\\n",
    "    .csv(csv_path)\n",
    "\n",
    "df.printSchema()\n",
    "df.show(5)"
   ]
  },
  {
   "cell_type": "code",
   "execution_count": 38,
   "id": "b5081f21",
   "metadata": {},
   "outputs": [
    {
     "name": "stdout",
     "output_type": "stream",
     "text": [
      "+--------------+----------+----------+------------+----------------+-----------------+--------------+--------------+--------------+------------+--------------------+----------+--------+-------------+\n",
      "|id_transaction|client_nom|client_age|client_ville|     produit_nom|produit_categorie|produit_marque|prix_catalogue|   magasin_nom|magasin_type|      magasin_region|      date|quantite|montant_total|\n",
      "+--------------+----------+----------+------------+----------------+-----------------+--------------+--------------+--------------+------------+--------------------+----------+--------+-------------+\n",
      "|             1|     alice|        25|       paris|      ordinateur|     informatique|          dell|           800| boutique lyon|    physique|auvergne-rhône-alpes|2023-03-12|       2|         NULL|\n",
      "|             2|       bob|        34|        lyon|      smartphone|       téléphonie|         apple|          1200| boutique lyon|    physique|auvergne-rhône-alpes|2023-01-27|       5|         NULL|\n",
      "|             3|     alice|        25|       paris|montre connectée|      accessoires|        garmin|           300|        e-shop|    en ligne|            national|2023-01-09|       1|         NULL|\n",
      "|             4|     alice|        25|       paris|      smartphone|       téléphonie|         apple|          1200|boutique paris|    physique|       île-de-france|2023-05-10|       5|         NULL|\n",
      "|             5|     alice|        25|       paris|montre connectée|      accessoires|        garmin|           300|boutique paris|    physique|       île-de-france|2023-06-16|       5|         NULL|\n",
      "+--------------+----------+----------+------------+----------------+-----------------+--------------+--------------+--------------+------------+--------------------+----------+--------+-------------+\n",
      "only showing top 5 rows\n"
     ]
    }
   ],
   "source": [
    "#1 task. Normalize string columns (lowercase + remove extra spaces)\n",
    "#detecting which columns are string\n",
    "string_cols = [f.name for f in df.schema.fields if isinstance(f.dataType, T.StringType)]\n",
    "\n",
    "# for each string column, convert to lowercase and trim spaces\n",
    "for c in string_cols:\n",
    "    df = df.withColumn(c, F.lower(F.trim(F.col(c))))\n",
    "df.show(5)"
   ]
  },
  {
   "cell_type": "code",
   "execution_count": 39,
   "id": "cce207a0",
   "metadata": {},
   "outputs": [
    {
     "name": "stdout",
     "output_type": "stream",
     "text": [
      "+--------------+----------+----------+------------+----------------+-----------------+--------------+--------------+--------------+------------+--------------------+----------+--------+-------------+\n",
      "|id_transaction|client_nom|client_age|client_ville|     produit_nom|produit_categorie|produit_marque|prix_catalogue|   magasin_nom|magasin_type|      magasin_region|      date|quantite|montant_total|\n",
      "+--------------+----------+----------+------------+----------------+-----------------+--------------+--------------+--------------+------------+--------------------+----------+--------+-------------+\n",
      "|             1|     alice|        25|       paris|      ordinateur|     informatique|          dell|           800| boutique lyon|    physique|auvergne-rhône-alpes|2023-03-12|       2|         NULL|\n",
      "|             2|       bob|        34|        lyon|      smartphone|       téléphonie|         apple|          1200| boutique lyon|    physique|auvergne-rhône-alpes|2023-01-27|       5|         NULL|\n",
      "|             3|     alice|        25|       paris|montre connectée|      accessoires|        garmin|           300|        e-shop|    en ligne|            national|2023-01-09|       1|         NULL|\n",
      "|             4|     alice|        25|       paris|      smartphone|       téléphonie|         apple|          1200|boutique paris|    physique|       île-de-france|2023-05-10|       5|         NULL|\n",
      "|             5|     alice|        25|       paris|montre connectée|      accessoires|        garmin|           300|boutique paris|    physique|       île-de-france|2023-06-16|       5|         NULL|\n",
      "|             6|     david|        40|    bordeaux|      smartphone|       téléphonie|         apple|          1200|        e-shop|    en ligne|            national|2023-05-31|       3|         NULL|\n",
      "|             7|     alice|        25|       paris|      smartphone|       téléphonie|         apple|          1200| boutique lyon|    physique|auvergne-rhône-alpes|2023-04-19|       3|         NULL|\n",
      "|             8|   charlie|        29|   marseille|      smartphone|       téléphonie|         apple|          1200|boutique paris|    physique|       île-de-france|2023-03-28|       1|         NULL|\n",
      "|             9|     alice|        25|       paris|        tablette|     informatique|       samsung|           600|boutique paris|    physique|       île-de-france|2023-04-02|       3|         NULL|\n",
      "|            10|      emma|        31|    toulouse|    casque audio|      accessoires|          sony|           150|boutique paris|    physique|       île-de-france|2023-04-28|       5|         NULL|\n",
      "+--------------+----------+----------+------------+----------------+-----------------+--------------+--------------+--------------+------------+--------------------+----------+--------+-------------+\n",
      "only showing top 10 rows\n"
     ]
    }
   ],
   "source": [
    "#2 task. Replace empty strings with None (NULL) to detect missing values\n",
    "for c in df.columns:\n",
    "    df = df.withColumn(c, F.when(F.col(c) == \"\", None).otherwise(F.col(c)))\n",
    "\n",
    "#  Drop rows with missing values, except 'montant_total because it will be recalculated later and for now it has NULL values everywhere'\n",
    "cols_to_check = [c for c in df.columns if c != \"montant_total\"]\n",
    "df = df.dropna(subset=cols_to_check, how=\"any\") #drop rows with any NULL values\n",
    "df.show(10)"
   ]
  },
  {
   "cell_type": "code",
   "execution_count": 40,
   "id": "d34c9dc9",
   "metadata": {},
   "outputs": [
    {
     "name": "stdout",
     "output_type": "stream",
     "text": [
      "+--------------+----------+----------+------------+----------------+-----------------+--------------+--------------+--------------+------------+--------------------+----------+--------+-------------+-------------+\n",
      "|id_transaction|client_nom|client_age|client_ville|     produit_nom|produit_categorie|produit_marque|prix_catalogue|   magasin_nom|magasin_type|      magasin_region|      date|quantite|montant_total|purchase_date|\n",
      "+--------------+----------+----------+------------+----------------+-----------------+--------------+--------------+--------------+------------+--------------------+----------+--------+-------------+-------------+\n",
      "|             1|     alice|        25|       paris|      ordinateur|     informatique|          dell|           800| boutique lyon|    physique|auvergne-rhône-alpes|2023-03-12|       2|         NULL|   2023-03-12|\n",
      "|             2|       bob|        34|        lyon|      smartphone|       téléphonie|         apple|          1200| boutique lyon|    physique|auvergne-rhône-alpes|2023-01-27|       5|         NULL|   2023-01-27|\n",
      "|             3|     alice|        25|       paris|montre connectée|      accessoires|        garmin|           300|        e-shop|    en ligne|            national|2023-01-09|       1|         NULL|   2023-01-09|\n",
      "|             4|     alice|        25|       paris|      smartphone|       téléphonie|         apple|          1200|boutique paris|    physique|       île-de-france|2023-05-10|       5|         NULL|   2023-05-10|\n",
      "|             5|     alice|        25|       paris|montre connectée|      accessoires|        garmin|           300|boutique paris|    physique|       île-de-france|2023-06-16|       5|         NULL|   2023-06-16|\n",
      "|             6|     david|        40|    bordeaux|      smartphone|       téléphonie|         apple|          1200|        e-shop|    en ligne|            national|2023-05-31|       3|         NULL|   2023-05-31|\n",
      "|             7|     alice|        25|       paris|      smartphone|       téléphonie|         apple|          1200| boutique lyon|    physique|auvergne-rhône-alpes|2023-04-19|       3|         NULL|   2023-04-19|\n",
      "|             8|   charlie|        29|   marseille|      smartphone|       téléphonie|         apple|          1200|boutique paris|    physique|       île-de-france|2023-03-28|       1|         NULL|   2023-03-28|\n",
      "|             9|     alice|        25|       paris|        tablette|     informatique|       samsung|           600|boutique paris|    physique|       île-de-france|2023-04-02|       3|         NULL|   2023-04-02|\n",
      "|            10|      emma|        31|    toulouse|    casque audio|      accessoires|          sony|           150|boutique paris|    physique|       île-de-france|2023-04-28|       5|         NULL|   2023-04-28|\n",
      "+--------------+----------+----------+------------+----------------+-----------------+--------------+--------------+--------------+------------+--------------------+----------+--------+-------------+-------------+\n",
      "only showing top 10 rows\n"
     ]
    }
   ],
   "source": [
    "#3 task. Handle purchase date \n",
    "#parse the purchase date column into a proper date type\n",
    "df = df.withColumn(\n",
    "    \"purchase_date\", \n",
    "    F.coalesce(\n",
    "        F.to_date(F.col(\"date\"), \"yyyy-MM-dd\"),\n",
    "        F.to_date(F.col(\"date\"), \"dd/MM/yyy\"),\n",
    "        F.to_date(F.col(\"date\"), \"MM/dd/yyyy\"),\n",
    "        F.to_date(F.col(\"date\"), \"yyyy/MM/dd\"),\n",
    "\n",
    "    )\n",
    ")\n",
    "df.show(10)\n",
    "#coalesce() tries several formats and picks the first that works\n"
   ]
  },
  {
   "cell_type": "code",
   "execution_count": 41,
   "id": "e5610415",
   "metadata": {},
   "outputs": [
    {
     "name": "stdout",
     "output_type": "stream",
     "text": [
      "+--------------+----------+----------+------------+----------------+-----------------+--------------+--------------+--------------+------------+--------------------+----------+--------+-------------+-------------+\n",
      "|id_transaction|client_nom|client_age|client_ville|     produit_nom|produit_categorie|produit_marque|prix_catalogue|   magasin_nom|magasin_type|      magasin_region|      date|quantite|montant_total|purchase_date|\n",
      "+--------------+----------+----------+------------+----------------+-----------------+--------------+--------------+--------------+------------+--------------------+----------+--------+-------------+-------------+\n",
      "|             1|     alice|        25|       paris|      ordinateur|     informatique|          dell|           800| boutique lyon|    physique|auvergne-rhône-alpes|2023-03-12|       2|         NULL|   2023-03-12|\n",
      "|             2|       bob|        34|        lyon|      smartphone|       téléphonie|         apple|          1200| boutique lyon|    physique|auvergne-rhône-alpes|2023-01-27|       5|         NULL|   2023-01-27|\n",
      "|             3|     alice|        25|       paris|montre connectée|      accessoires|        garmin|           300|        e-shop|    en ligne|            national|2023-01-09|       1|         NULL|   2023-01-09|\n",
      "|             4|     alice|        25|       paris|      smartphone|       téléphonie|         apple|          1200|boutique paris|    physique|       île-de-france|2023-05-10|       5|         NULL|   2023-05-10|\n",
      "|             5|     alice|        25|       paris|montre connectée|      accessoires|        garmin|           300|boutique paris|    physique|       île-de-france|2023-06-16|       5|         NULL|   2023-06-16|\n",
      "+--------------+----------+----------+------------+----------------+-----------------+--------------+--------------+--------------+------------+--------------------+----------+--------+-------------+-------------+\n",
      "only showing top 5 rows\n"
     ]
    }
   ],
   "source": [
    "#3 task. Remove extravagant dates\n",
    "df =df.filter(\n",
    "    (F.col(\"purchase_date\") >= F.to_date(F.lit(\"2023-01-01\"))) &\n",
    "    (F.col(\"purchase_date\") <= F.current_date())\n",
    ")\n",
    "\n",
    "df.show(5)"
   ]
  },
  {
   "cell_type": "code",
   "execution_count": 42,
   "id": "ba229e87",
   "metadata": {},
   "outputs": [
    {
     "name": "stdout",
     "output_type": "stream",
     "text": [
      "+--------------+----------+----------+------------+----------------+-----------------+--------------+--------------+--------------+------------+--------------------+----------+--------+-------------+-------------+\n",
      "|id_transaction|client_nom|client_age|client_ville|     produit_nom|produit_categorie|produit_marque|prix_catalogue|   magasin_nom|magasin_type|      magasin_region|      date|quantite|montant_total|purchase_date|\n",
      "+--------------+----------+----------+------------+----------------+-----------------+--------------+--------------+--------------+------------+--------------------+----------+--------+-------------+-------------+\n",
      "|             1|     alice|        25|       paris|      ordinateur|     informatique|          dell|         800.0| boutique lyon|    physique|auvergne-rhône-alpes|2023-03-12|       2|         NULL|   2023-03-12|\n",
      "|             2|       bob|        34|        lyon|      smartphone|       téléphonie|         apple|        1200.0| boutique lyon|    physique|auvergne-rhône-alpes|2023-01-27|       5|         NULL|   2023-01-27|\n",
      "|             3|     alice|        25|       paris|montre connectée|      accessoires|        garmin|         300.0|        e-shop|    en ligne|            national|2023-01-09|       1|         NULL|   2023-01-09|\n",
      "|             4|     alice|        25|       paris|      smartphone|       téléphonie|         apple|        1200.0|boutique paris|    physique|       île-de-france|2023-05-10|       5|         NULL|   2023-05-10|\n",
      "|             5|     alice|        25|       paris|montre connectée|      accessoires|        garmin|         300.0|boutique paris|    physique|       île-de-france|2023-06-16|       5|         NULL|   2023-06-16|\n",
      "+--------------+----------+----------+------------+----------------+-----------------+--------------+--------------+--------------+------------+--------------------+----------+--------+-------------+-------------+\n",
      "only showing top 5 rows\n"
     ]
    }
   ],
   "source": [
    "#4 task. handle numeric anomalies (checking the columns like age, quantite, prix_unitaire are numbers not strings\n",
    "numeric_cols = {\n",
    "    \"client_age\": T.IntegerType(),\n",
    "    \"quantite\": T.IntegerType(),\n",
    "    \"prix_catalogue\": T.DoubleType(),\n",
    "    #\"montant_total\": T.DoubleType()\n",
    "}\n",
    "\n",
    "for col_name, col_type in numeric_cols.items():\n",
    "    if col_name in df.columns: \n",
    "        df = df.withColumn(col_name, F.col(col_name).cast(col_type))\n",
    "\n",
    "\n",
    "#cast() converts a column to a given type , if\n",
    "#the value can't be converted then it becomes NULL like if it's \"abc\"\n",
    "\n",
    "df.show(5)"
   ]
  },
  {
   "cell_type": "code",
   "execution_count": 43,
   "id": "3580c8c9",
   "metadata": {},
   "outputs": [
    {
     "name": "stdout",
     "output_type": "stream",
     "text": [
      "+--------------+----------+----------+------------+----------------+-----------------+--------------+--------------+--------------+------------+--------------------+----------+--------+-------------+-------------+\n",
      "|id_transaction|client_nom|client_age|client_ville|     produit_nom|produit_categorie|produit_marque|prix_catalogue|   magasin_nom|magasin_type|      magasin_region|      date|quantite|montant_total|purchase_date|\n",
      "+--------------+----------+----------+------------+----------------+-----------------+--------------+--------------+--------------+------------+--------------------+----------+--------+-------------+-------------+\n",
      "|             1|     alice|        25|       paris|      ordinateur|     informatique|          dell|         800.0| boutique lyon|    physique|auvergne-rhône-alpes|2023-03-12|       2|         NULL|   2023-03-12|\n",
      "|             2|       bob|        34|        lyon|      smartphone|       téléphonie|         apple|        1200.0| boutique lyon|    physique|auvergne-rhône-alpes|2023-01-27|       5|         NULL|   2023-01-27|\n",
      "|             3|     alice|        25|       paris|montre connectée|      accessoires|        garmin|         300.0|        e-shop|    en ligne|            national|2023-01-09|       1|         NULL|   2023-01-09|\n",
      "|             4|     alice|        25|       paris|      smartphone|       téléphonie|         apple|        1200.0|boutique paris|    physique|       île-de-france|2023-05-10|       5|         NULL|   2023-05-10|\n",
      "|             5|     alice|        25|       paris|montre connectée|      accessoires|        garmin|         300.0|boutique paris|    physique|       île-de-france|2023-06-16|       5|         NULL|   2023-06-16|\n",
      "+--------------+----------+----------+------------+----------------+-----------------+--------------+--------------+--------------+------------+--------------------+----------+--------+-------------+-------------+\n",
      "only showing top 5 rows\n"
     ]
    }
   ],
   "source": [
    "#drop rows where numeric columns could not be converted\n",
    "for col_name in numeric_cols.keys():\n",
    "    if col_name in df.columns:\n",
    "        df = df.filter(F.col(col_name).isNotNull())\n",
    "\n",
    "df.show(5)"
   ]
  },
  {
   "cell_type": "code",
   "execution_count": 44,
   "id": "2cc7d4d6",
   "metadata": {},
   "outputs": [
    {
     "name": "stdout",
     "output_type": "stream",
     "text": [
      "+--------------+----------+----------+------------+----------------+-----------------+--------------+--------------+--------------+------------+--------------------+----------+--------+-------------+-------------+\n",
      "|id_transaction|client_nom|client_age|client_ville|     produit_nom|produit_categorie|produit_marque|prix_catalogue|   magasin_nom|magasin_type|      magasin_region|      date|quantite|montant_total|purchase_date|\n",
      "+--------------+----------+----------+------------+----------------+-----------------+--------------+--------------+--------------+------------+--------------------+----------+--------+-------------+-------------+\n",
      "|             1|     alice|        25|       paris|      ordinateur|     informatique|          dell|         800.0| boutique lyon|    physique|auvergne-rhône-alpes|2023-03-12|       2|         NULL|   2023-03-12|\n",
      "|             2|       bob|        34|        lyon|      smartphone|       téléphonie|         apple|        1200.0| boutique lyon|    physique|auvergne-rhône-alpes|2023-01-27|       5|         NULL|   2023-01-27|\n",
      "|             3|     alice|        25|       paris|montre connectée|      accessoires|        garmin|         300.0|        e-shop|    en ligne|            national|2023-01-09|       1|         NULL|   2023-01-09|\n",
      "|             4|     alice|        25|       paris|      smartphone|       téléphonie|         apple|        1200.0|boutique paris|    physique|       île-de-france|2023-05-10|       5|         NULL|   2023-05-10|\n",
      "|             5|     alice|        25|       paris|montre connectée|      accessoires|        garmin|         300.0|boutique paris|    physique|       île-de-france|2023-06-16|       5|         NULL|   2023-06-16|\n",
      "+--------------+----------+----------+------------+----------------+-----------------+--------------+--------------+--------------+------------+--------------------+----------+--------+-------------+-------------+\n",
      "only showing top 5 rows\n"
     ]
    }
   ],
   "source": [
    "#5 task. Handle negative ages\n",
    "if \"client_age\" in df.columns:\n",
    "    df =df.withColumn(\"client_age\", F.abs(F.col(\"client_age\")))\n",
    "df.show(5)"
   ]
  },
  {
   "cell_type": "code",
   "execution_count": 47,
   "id": "c8d118f6",
   "metadata": {},
   "outputs": [
    {
     "name": "stdout",
     "output_type": "stream",
     "text": [
      "+--------------+----------+----------+------------+----------------+-----------------+--------------+--------------+--------------+------------+--------------------+----------+--------+-------------+-------------+\n",
      "|id_transaction|client_nom|client_age|client_ville|     produit_nom|produit_categorie|produit_marque|prix_catalogue|   magasin_nom|magasin_type|      magasin_region|      date|quantite|purchase_date|montant_total|\n",
      "+--------------+----------+----------+------------+----------------+-----------------+--------------+--------------+--------------+------------+--------------------+----------+--------+-------------+-------------+\n",
      "|             1|     alice|        25|       paris|      ordinateur|     informatique|          dell|         800.0| boutique lyon|    physique|auvergne-rhône-alpes|2023-03-12|       2|   2023-03-12|       1600.0|\n",
      "|             2|       bob|        34|        lyon|      smartphone|       téléphonie|         apple|        1200.0| boutique lyon|    physique|auvergne-rhône-alpes|2023-01-27|       5|   2023-01-27|       6000.0|\n",
      "|             3|     alice|        25|       paris|montre connectée|      accessoires|        garmin|         300.0|        e-shop|    en ligne|            national|2023-01-09|       1|   2023-01-09|        300.0|\n",
      "|             4|     alice|        25|       paris|      smartphone|       téléphonie|         apple|        1200.0|boutique paris|    physique|       île-de-france|2023-05-10|       5|   2023-05-10|       6000.0|\n",
      "|             5|     alice|        25|       paris|montre connectée|      accessoires|        garmin|         300.0|boutique paris|    physique|       île-de-france|2023-06-16|       5|   2023-06-16|       1500.0|\n",
      "|             6|     david|        40|    bordeaux|      smartphone|       téléphonie|         apple|        1200.0|        e-shop|    en ligne|            national|2023-05-31|       3|   2023-05-31|       3600.0|\n",
      "|             7|     alice|        25|       paris|      smartphone|       téléphonie|         apple|        1200.0| boutique lyon|    physique|auvergne-rhône-alpes|2023-04-19|       3|   2023-04-19|       3600.0|\n",
      "|             8|   charlie|        29|   marseille|      smartphone|       téléphonie|         apple|        1200.0|boutique paris|    physique|       île-de-france|2023-03-28|       1|   2023-03-28|       1200.0|\n",
      "|             9|     alice|        25|       paris|        tablette|     informatique|       samsung|         600.0|boutique paris|    physique|       île-de-france|2023-04-02|       3|   2023-04-02|       1800.0|\n",
      "|            10|      emma|        31|    toulouse|    casque audio|      accessoires|          sony|         150.0|boutique paris|    physique|       île-de-france|2023-04-28|       5|   2023-04-28|        750.0|\n",
      "+--------------+----------+----------+------------+----------------+-----------------+--------------+--------------+--------------+------------+--------------------+----------+--------+-------------+-------------+\n",
      "only showing top 10 rows\n"
     ]
    }
   ],
   "source": [
    "#6 task.Calculate total amount per sale\n",
    "# drop the old useless NULL column if it exists\n",
    "# add the computed column\n",
    "\n",
    "if \"montant_total\" in df.columns:\n",
    "    df = df.drop(\"montant_total\")   # remove the placeholder column\n",
    "\n",
    "# create new montant_total column\n",
    "df = df.withColumn(\"montant_total\", F.col(\"quantite\") * F.col(\"prix_catalogue\"))\n",
    "\n",
    "df.show(10)\n"
   ]
  }
 ],
 "metadata": {
  "kernelspec": {
   "display_name": "myenv",
   "language": "python",
   "name": "python3"
  },
  "language_info": {
   "codemirror_mode": {
    "name": "ipython",
    "version": 3
   },
   "file_extension": ".py",
   "mimetype": "text/x-python",
   "name": "python",
   "nbconvert_exporter": "python",
   "pygments_lexer": "ipython3",
   "version": "3.9.19"
  }
 },
 "nbformat": 4,
 "nbformat_minor": 5
}
